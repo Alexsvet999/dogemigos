{
 "cells": [
  {
   "cell_type": "code",
   "execution_count": null,
   "metadata": {},
   "outputs": [],
   "source": [
    "import json\n",
    "from dogemigos import ROOT_PATH"
   ]
  },
  {
   "cell_type": "code",
   "execution_count": null,
   "metadata": {},
   "outputs": [],
   "source": [
    "\n",
    "metadata = {}\n",
    "for i in range(1, 6667):\n",
    "    hash = \"bafybeidobz2qzgytkqwmb3iq2fdwxvndk3pri5dnyqqhp6df5cshqp6io4\"\n",
    "    path = ROOT_PATH.parent.parent / \"metadata/.local\" / hash / str(i)\n",
    "    with open(path, 'r') as f:\n",
    "        dat = json.load(f)\n",
    "        metadata[i] = dat"
   ]
  },
  {
   "cell_type": "code",
   "execution_count": null,
   "metadata": {},
   "outputs": [],
   "source": [
    "import json\n",
    "from dogemigos import ROOT_PATH\n",
    "\n",
    "raw_metadata = {}\n",
    "with open(ROOT_PATH / \"dat/metadata.json\", 'r') as f:\n",
    "    raw_metadata = json.load(f)\n",
    "    \n",
    "all_attributes = {}\n",
    "for id in raw_metadata:\n",
    "    asset_attributes = raw_metadata[id].get(\"attributes\", [{\"trait_type\": \"Not Revealed\", \"value\": \"Not Revealed\"}])\n",
    "    asset_attributes.append({\"trait_type\": \"trait_count\", \"value\": len(asset_attributes)})\n",
    "    for trait in asset_attributes:\n",
    "        all_attributes.setdefault(trait[\"trait_type\"], {trait[\"value\"]: 0})\n",
    "        all_attributes[trait[\"trait_type\"]].setdefault(trait[\"value\"], 0)\n",
    "        all_attributes[trait[\"trait_type\"]][trait[\"value\"]] += 1\n",
    "\n",
    "with open(ROOT_PATH / \"dat/all_attributes.json\", 'w') as o:\n",
    "    o.write(json.dumps(all_attributes, indent=2))"
   ]
  },
  {
   "cell_type": "code",
   "execution_count": null,
   "metadata": {},
   "outputs": [],
   "source": [
    "all_attributes = {}\n",
    "with open(ROOT_PATH / \"dat/all_attributes.json\", 'r') as f:\n",
    "    all_attributes = json.load(f)\n",
    "    \n",
    "total_revealed = 6666 - 35\n",
    "    \n",
    "for attr in all_attributes:\n",
    "    attribute = all_attributes[attr]\n",
    "    sum = 0\n",
    "    for trait in attribute:\n",
    "        sum += attribute[trait]"
   ]
  },
  {
   "cell_type": "code",
   "execution_count": null,
   "metadata": {},
   "outputs": [],
   "source": [
    "all_attributes = {}\n",
    "with open(ROOT_PATH / \"dat/all_attributes.json\", 'r') as f:\n",
    "    all_attributes = json.load(f)\n",
    "    \n",
    "for attribute in all_attributes:\n",
    "    attr = dict(sorted(all_attributes[attribute].items(), key=lambda item: item[1]))\n",
    "    all_attributes[attribute] = attr\n",
    "\n",
    "all_attributes[\"Legendary\"] = dict(sorted(all_attributes[\"Legendary\"].items()))\n",
    "all_attributes[\"Full Body Suit\"] = dict(sorted(all_attributes[\"Full Body Suit\"].items()))\n",
    "    \n",
    "with open(ROOT_PATH / \"dat/all_attributes_sorted.json\", 'w') as o:\n",
    "    o.write(json.dumps(all_attributes, indent=2))"
   ]
  },
  {
   "cell_type": "code",
   "execution_count": null,
   "metadata": {},
   "outputs": [],
   "source": [
    "all_attributes = {}\n",
    "with open(ROOT_PATH / \"dat/all_attributes_sorted.json\", 'r') as f:\n",
    "    all_attributes = json.load(f)"
   ]
  },
  {
   "cell_type": "code",
   "execution_count": null,
   "metadata": {},
   "outputs": [],
   "source": [
    "import dogemigos.metadata as metadata\n",
    "\n",
    "attributes = metadata.Metadata.get_attributes()\n",
    "revealed = metadata.Metadata.MAX_SUPPLY - 35\n",
    "print(f\"revealed: {revealed}\")\n",
    "\n",
    "for attr in attributes:\n",
    "    attribute = attributes[attr]\n",
    "    attr_cnt = 0\n",
    "    for trait in attribute:\n",
    "        trait_cnt = attribute[trait]\n",
    "        attr_cnt += trait_cnt\n",
    "        \n",
    "    # print(metadata.Metadata.MAX_SUPPLY )\n",
    "    attributes[attr][\"None\"] = revealed - attr_cnt\n",
    "    print(f\"{attr}: {attributes[attr]['None']}\")\n",
    "    "
   ]
  },
  {
   "cell_type": "code",
   "execution_count": 1,
   "metadata": {},
   "outputs": [],
   "source": [
    "from dogemigos.metadata import Metadata\n",
    "\n",
    "# metadata = Metadata.read_attributes_from_raw_metadata()\n",
    "\n",
    "# for attr in metadata:\n",
    "#     attribute = metadata[attr]\n",
    "#     sum = 0\n",
    "#     for trait in attribute:\n",
    "#         sum += attribute[trait]\n",
    "#     print(f\"{attr}:\\t{sum}, NONE: {6666-35-sum}\")\n",
    "    \n",
    "\n",
    "\n",
    "Metadata.dump_sorted_attributes()"
   ]
  }
 ],
 "metadata": {
  "kernelspec": {
   "display_name": "dogemigos--S1IZYnV",
   "language": "python",
   "name": "python3"
  },
  "language_info": {
   "codemirror_mode": {
    "name": "ipython",
    "version": 3
   },
   "file_extension": ".py",
   "mimetype": "text/x-python",
   "name": "python",
   "nbconvert_exporter": "python",
   "pygments_lexer": "ipython3",
   "version": "3.8.10"
  },
  "orig_nbformat": 4
 },
 "nbformat": 4,
 "nbformat_minor": 2
}
