{
 "cells": [
  {
   "cell_type": "code",
   "execution_count": 9,
   "metadata": {},
   "outputs": [
    {
     "name": "stdout",
     "output_type": "stream",
     "text": [
      "TokenRarity(score=0.49613948892847254, token_features=TokenRankingFeatures(unique_attribute_count=0), token=Token(token_identifier=EVMContractTokenIdentifier(contract_address='0xa3049...', token_id=3830, identifier_type='evm_contract'), token_standard=<TokenStandard.ERC721: 'erc721'>, metadata=TokenMetadata(string_attributes={'body': StringAttribute(name='body', value='common'), 'mouth': StringAttribute(name='mouth', value='happy'), 'clothes': StringAttribute(name='clothes', value='naked'), 'meta_trait:trait_count': StringAttribute(name='meta_trait:trait_count', value='3')}, numeric_attributes={}, date_attributes={})), rank=6630)\n"
     ]
    }
   ],
   "source": [
    "import dogemigos.metadata\n",
    "from dogemigos.metadata import Metadata\n",
    "# OpenRarity version 0.4.0-beta\n",
    "from open_rarity import (\n",
    "    Collection,\n",
    "    Token,\n",
    "    RarityRanker,\n",
    "    TokenMetadata,\n",
    "    StringAttribute,\n",
    ")\n",
    "from open_rarity.models.token_identifier import EVMContractTokenIdentifier\n",
    "from open_rarity.models.token_standard import TokenStandard\n",
    "\n",
    "# class Rarity:\n",
    "    # def get_token_identif\n",
    "\n",
    "dogemigos_collection = Metadata.get_raw()\n",
    "\n",
    "tokens = []\n",
    "for id in dogemigos_collection:\n",
    "    try:\n",
    "        tokens.append(\n",
    "            Token(\n",
    "                token_identifier=EVMContractTokenIdentifier(contract_address=\"0x3C53941eE6a23a1A046F2a956BAF36e4E4b04E35\", token_id=int(id)),\n",
    "                token_standard=TokenStandard.ERC721,\n",
    "                metadata=TokenMetadata(string_attributes=Metadata.Attributes(dogemigos_collection[id][\"attributes\"]).to_open_rarity())\n",
    "            )\n",
    "        )\n",
    "    except KeyError:\n",
    "        pass\n",
    "\n",
    "\n",
    "\n",
    "# Create OpenRarity collection object and provide all metadata information\n",
    "collection = Collection(\n",
    "    name=\"My Collection Name\",\n",
    "    tokens=tokens\n",
    ")  # Replace inputs with your collection-specific details here\n",
    "\n",
    "\n",
    "# Generate scores for a collection\n",
    "ranked_tokens = RarityRanker.rank_collection(collection=collection)\n",
    "\n",
    "# Iterate over the ranked and sorted tokens\n",
    "# for token_rarity in ranked_tokens:\n",
    "#     token_id = token_rarity.token.token_identifier.token_id\n",
    "#     rank = token_rarity.rank\n",
    "#     score = token_rarity.score\n",
    "#     print(f\"\\tToken {token_id} has rank {rank} score: {score}\")\n",
    "\n",
    "print(ranked_tokens[-1])"
   ]
  }
 ],
 "metadata": {
  "kernelspec": {
   "display_name": "dogemigos--S1IZYnV",
   "language": "python",
   "name": "python3"
  },
  "language_info": {
   "codemirror_mode": {
    "name": "ipython",
    "version": 3
   },
   "file_extension": ".py",
   "mimetype": "text/x-python",
   "name": "python",
   "nbconvert_exporter": "python",
   "pygments_lexer": "ipython3",
   "version": "3.10.0"
  },
  "orig_nbformat": 4
 },
 "nbformat": 4,
 "nbformat_minor": 2
}
