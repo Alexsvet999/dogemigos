{
 "cells": [
  {
   "cell_type": "code",
   "execution_count": 3,
   "metadata": {},
   "outputs": [],
   "source": [
    "import json\n",
    "from dogemigos import ROOT_PATH"
   ]
  },
  {
   "cell_type": "code",
   "execution_count": 9,
   "metadata": {},
   "outputs": [],
   "source": [
    "\n",
    "metadata = {}\n",
    "for i in range(1, 6667):\n",
    "    hash = \"bafybeidobz2qzgytkqwmb3iq2fdwxvndk3pri5dnyqqhp6df5cshqp6io4\"\n",
    "    path = ROOT_PATH.parent.parent / \"metadata/.local\" / hash / str(i)\n",
    "    with open(path) as f:\n",
    "        dat = json.load(f)\n",
    "        metadata[i] = dat"
   ]
  },
  {
   "cell_type": "code",
   "execution_count": 12,
   "metadata": {},
   "outputs": [],
   "source": [
    "with open(ROOT_PATH / \"dat/metadata.json\", 'w') as o:\n",
    "    json.dump(metadata, o)"
   ]
  }
 ],
 "metadata": {
  "kernelspec": {
   "display_name": "dogemigos--S1IZYnV",
   "language": "python",
   "name": "python3"
  },
  "language_info": {
   "codemirror_mode": {
    "name": "ipython",
    "version": 3
   },
   "file_extension": ".py",
   "mimetype": "text/x-python",
   "name": "python",
   "nbconvert_exporter": "python",
   "pygments_lexer": "ipython3",
   "version": "3.8.10"
  },
  "orig_nbformat": 4
 },
 "nbformat": 4,
 "nbformat_minor": 2
}
